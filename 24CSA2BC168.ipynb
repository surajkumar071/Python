{
  "nbformat": 4,
  "nbformat_minor": 0,
  "metadata": {
    "colab": {
      "provenance": [],
      "collapsed_sections": [
        "ODk40iy6lbzz",
        "zXvRV--Nk4m5",
        "-WAHmmIVXMxE",
        "XGZfAfHV4Li2",
        "gPsavBl2DqVT",
        "Xm7FNKg8D5WI",
        "OkDzL5hhEL9l",
        "OkjAXKsUETEC",
        "U4_9ChneEadB",
        "bmD6-t5REiCH",
        "nbY7gMedFNz8",
        "qop6cGSjly7r"
      ],
      "toc_visible": true,
      "include_colab_link": true
    },
    "kernelspec": {
      "name": "python3",
      "display_name": "Python 3"
    },
    "language_info": {
      "name": "python"
    }
  },
  "cells": [
    {
      "cell_type": "markdown",
      "metadata": {
        "id": "view-in-github",
        "colab_type": "text"
      },
      "source": [
        "<a href=\"https://colab.research.google.com/github/surajkumar071/Python/blob/main/24CSA2BC168.ipynb\" target=\"_parent\"><img src=\"https://colab.research.google.com/assets/colab-badge.svg\" alt=\"Open In Colab\"/></a>"
      ]
    },
    {
      "cell_type": "markdown",
      "source": [
        "# `Print Hello Sir`"
      ],
      "metadata": {
        "id": "ODk40iy6lbzz"
      }
    },
    {
      "cell_type": "code",
      "source": [
        "print(\"Hello Sir\")"
      ],
      "metadata": {
        "colab": {
          "base_uri": "https://localhost:8080/"
        },
        "id": "Hc1QQuCOl0FL",
        "outputId": "902cac6c-0c81-4a9d-dbd6-73415949e5b1"
      },
      "execution_count": null,
      "outputs": [
        {
          "output_type": "stream",
          "name": "stdout",
          "text": [
            "Hello Sir\n"
          ]
        }
      ]
    },
    {
      "cell_type": "markdown",
      "source": [
        "# `Sum of two by user`\n",
        "\n",
        "\n",
        "\n"
      ],
      "metadata": {
        "id": "zXvRV--Nk4m5"
      }
    },
    {
      "cell_type": "markdown",
      "source": [],
      "metadata": {
        "id": "Obw6Wwx3k7w8"
      }
    },
    {
      "cell_type": "code",
      "execution_count": null,
      "metadata": {
        "colab": {
          "base_uri": "https://localhost:8080/"
        },
        "id": "uJPvwAuAcc4H",
        "outputId": "0ff85d26-9ca9-4ba6-d1bc-805e97196bea"
      },
      "outputs": [
        {
          "output_type": "stream",
          "name": "stdout",
          "text": [
            "Enter first number:  60\n",
            "Enter second number: 90\n",
            "The sum is:  150\n"
          ]
        }
      ],
      "source": [
        "a = int(input(\"Enter first number:  \"))\n",
        "b = int(input(\"Enter second number: \"))\n",
        "c = a + b\n",
        "print(\"The sum is: \", c)"
      ]
    },
    {
      "cell_type": "markdown",
      "source": [
        "# `Python Comments`"
      ],
      "metadata": {
        "id": "-WAHmmIVXMxE"
      }
    },
    {
      "cell_type": "code",
      "source": [
        "# This is a single line Comment\n",
        "print(\"Hello Sir\")\n",
        "\n",
        "'''This is a\n",
        "multi line\n",
        "comment in python using single qoutes'''\n",
        "\n",
        "\"\"\"This is another way of\n",
        "multi line comment in\n",
        "python using double quotes\"\"\"\n",
        "\n"
      ],
      "metadata": {
        "id": "pYl6AXymXMNz",
        "colab": {
          "base_uri": "https://localhost:8080/",
          "height": 53
        },
        "outputId": "c530c201-e976-4614-9b88-81353788862a"
      },
      "execution_count": null,
      "outputs": [
        {
          "output_type": "stream",
          "name": "stdout",
          "text": [
            "Hello Sir\n"
          ]
        },
        {
          "output_type": "execute_result",
          "data": {
            "text/plain": [
              "'This is another way of \\nmulti line comment in \\npython using double court'"
            ],
            "application/vnd.google.colaboratory.intrinsic+json": {
              "type": "string"
            }
          },
          "metadata": {},
          "execution_count": 3
        }
      ]
    },
    {
      "cell_type": "markdown",
      "source": [
        "# `Variables`"
      ],
      "metadata": {
        "id": "XGZfAfHV4Li2"
      }
    },
    {
      "cell_type": "code",
      "source": [
        "x = 10\n",
        "y = \"Suraj\"\n",
        "print(x)\n",
        "print(y)"
      ],
      "metadata": {
        "colab": {
          "base_uri": "https://localhost:8080/"
        },
        "id": "sAbF8A7N4QoQ",
        "outputId": "e206cd1a-88da-4ad6-a039-3cea60f3d63a"
      },
      "execution_count": null,
      "outputs": [
        {
          "output_type": "stream",
          "name": "stdout",
          "text": [
            "10\n",
            "Suraj\n"
          ]
        }
      ]
    },
    {
      "cell_type": "code",
      "source": [
        "# Casting\n",
        "x = str(5) # x will be '5'\n",
        "y = int(5) # y will be 5\n",
        "z = float(5) # z will be 5.0\n",
        "print(x,y,z)"
      ],
      "metadata": {
        "colab": {
          "base_uri": "https://localhost:8080/"
        },
        "id": "iZNFlVtw4e81",
        "outputId": "2f9898db-59ea-4004-8e69-107ee9bcc378"
      },
      "execution_count": null,
      "outputs": [
        {
          "output_type": "stream",
          "name": "stdout",
          "text": [
            "5 5 5.0\n"
          ]
        }
      ]
    },
    {
      "cell_type": "code",
      "source": [
        "# Checking type of a data type in python using type() function\n",
        "x = 10\n",
        "y = \"Suraj\" #string variable can be declared using single or double quotes both is right\n",
        "z = 'Ashu'\n",
        "print(type(x))\n",
        "print(type(y))\n",
        "print(type(z))"
      ],
      "metadata": {
        "colab": {
          "base_uri": "https://localhost:8080/"
        },
        "id": "-sPONyet5V_s",
        "outputId": "a5fd7539-b14d-40bf-b851-0be8d21a447a"
      },
      "execution_count": null,
      "outputs": [
        {
          "output_type": "stream",
          "name": "stdout",
          "text": [
            "<class 'int'>\n",
            "<class 'str'>\n",
            "<class 'str'>\n"
          ]
        }
      ]
    },
    {
      "cell_type": "code",
      "source": [
        "# Variable names are case sensitive\n",
        "a = 20\n",
        "A = \"Suraj\"\n",
        "print(a)\n",
        "print(type(a))\n",
        "print(A)\n",
        "print(type(A))"
      ],
      "metadata": {
        "colab": {
          "base_uri": "https://localhost:8080/"
        },
        "id": "6-4OX3Sw5344",
        "outputId": "0b193891-4284-4ca1-f9f0-0246c0d36470"
      },
      "execution_count": null,
      "outputs": [
        {
          "output_type": "stream",
          "name": "stdout",
          "text": [
            "20\n",
            "<class 'int'>\n",
            "Suraj\n",
            "<class 'str'>\n"
          ]
        }
      ]
    },
    {
      "cell_type": "code",
      "source": [
        "# Declaration of Variables\n",
        "myvar = \"Suraj\"\n",
        "my_var = \"Suraj\"\n",
        "_my_var = \"Suraj\"\n",
        "myVar = \"Suraj\"\n",
        "MYVAR = \"Suraj\"\n",
        "myvar2 = \"Suraj\"\n",
        "\n",
        "# There are Multi Words variable names\n",
        "\n",
        "# 1. Camel Case\n",
        "myVariableName = \"Ashu\"\n",
        "print(myVariableName)\n",
        "\n",
        "# 2. Pascal Case\n",
        "MyVariableName = \"Suraj\"\n",
        "print(MyVariableName)\n",
        "\n",
        "# 3. Snake Case\n",
        "my_variable_name = \"Priya\"\n",
        "print(my_variable_name)"
      ],
      "metadata": {
        "colab": {
          "base_uri": "https://localhost:8080/"
        },
        "id": "av_67g-07aoC",
        "outputId": "4cd2beb7-7712-490c-e65d-8daa59884fa5"
      },
      "execution_count": null,
      "outputs": [
        {
          "output_type": "stream",
          "name": "stdout",
          "text": [
            "Ashu\n",
            "Suraj\n",
            "Priya\n"
          ]
        }
      ]
    },
    {
      "cell_type": "code",
      "source": [
        "# Many values to multiple variables\n",
        "a,b,c =  5, \"Ashu\", 20\n",
        "print(a)\n",
        "print(b)\n",
        "print(c)\n",
        "\n",
        "# One Value to Multiple Variables\n",
        "a = b = c = \"Suraj\"\n",
        "print(a)\n",
        "print(b)\n",
        "print(c)\n",
        "\n",
        "# Unpack a Collection\n",
        "fruits = [\"Apple\", \"Banana\", \"Cherry\"]\n",
        "a,b,c = fruits\n",
        "print(a)\n",
        "print(b)\n",
        "print(c)"
      ],
      "metadata": {
        "colab": {
          "base_uri": "https://localhost:8080/"
        },
        "id": "Uy9FHJCz7_Kl",
        "outputId": "89421658-0a53-48a0-c89d-823cceb21fa9"
      },
      "execution_count": null,
      "outputs": [
        {
          "output_type": "stream",
          "name": "stdout",
          "text": [
            "5\n",
            "Ashu\n",
            "20\n",
            "Suraj\n",
            "Suraj\n",
            "Suraj\n",
            "Apple\n",
            "Banana\n",
            "Cherry\n"
          ]
        }
      ]
    },
    {
      "cell_type": "code",
      "source": [
        "# Output Variables\n",
        "\n",
        "# The Python print() function is often used to output variables.\n",
        "x = \"Python is awesome\"\n",
        "print(x)\n",
        "\n",
        "\n",
        "# In the print() function, you output multiple variables, separated by a comma:\n",
        "x = \"Python\"\n",
        "y = \"is\"\n",
        "z = \"awesome\"\n",
        "print(x, y, z)\n",
        "\n",
        "# You can also use the + operator to output multiple variables:\n",
        "x = \"Python \"\n",
        "y = \"is \"\n",
        "z = \"awesome\"\n",
        "print(x + y + z)\n",
        "\n",
        "# In the print() function, when you try to combine a string and a number with the + operator, Python will give you an error:\n",
        "\n",
        "x = 5\n",
        "y = \"John\"\n",
        "# print(x + y)\n",
        "\n",
        "# The best way to output multiple variables in the print() function is to separate them with commas, which even support different data types:\n",
        "x = 5\n",
        "y = \"John\"\n",
        "print(x, y)"
      ],
      "metadata": {
        "colab": {
          "base_uri": "https://localhost:8080/"
        },
        "id": "m0RnVx7S_Cac",
        "outputId": "44d12808-df3e-4a57-86b6-a206a748c60f"
      },
      "execution_count": null,
      "outputs": [
        {
          "output_type": "stream",
          "name": "stdout",
          "text": [
            "Python is awesome\n",
            "Python is awesome\n",
            "Python is awesome\n",
            "5 John\n"
          ]
        }
      ]
    },
    {
      "cell_type": "code",
      "source": [
        "# Global Variables\n",
        "# Create a variable outside of a function, and use it inside the function\n",
        "x = \"Suraj\"\n",
        "\n",
        "def myfunc():\n",
        "    print(\"Your name is \" + x)\n",
        "\n",
        "    myfunc()\n",
        "\n",
        "    # Create a variable inside a function, with the same name as the global variable\n",
        "    x = \"Suraj\"\n",
        "\n",
        "def myfunc():\n",
        "  x = \"Amazing\"\n",
        "  print(\"your name is  \" + x)\n",
        "\n",
        "myfunc()\n",
        "\n",
        "print(\"You are \" + x)"
      ],
      "metadata": {
        "colab": {
          "base_uri": "https://localhost:8080/"
        },
        "id": "59q_dRSHAFNc",
        "outputId": "1daf5188-fd07-4044-b09b-fbfff5b9c1b9"
      },
      "execution_count": null,
      "outputs": [
        {
          "output_type": "stream",
          "name": "stdout",
          "text": [
            "your name is  Amazing\n",
            "You are Suraj\n"
          ]
        }
      ]
    },
    {
      "cell_type": "code",
      "source": [],
      "metadata": {
        "id": "lYZImCytCNRo"
      },
      "execution_count": null,
      "outputs": []
    },
    {
      "cell_type": "markdown",
      "source": [
        "# `Data Types`"
      ],
      "metadata": {
        "id": "gPsavBl2DqVT"
      }
    },
    {
      "cell_type": "code",
      "source": [
        "# int data Type\n",
        "a = int(input(\"Enter a int number: \"))\n",
        "print(a)\n",
        "print(type(a))"
      ],
      "metadata": {
        "id": "xsl4HGyuD3YN",
        "colab": {
          "base_uri": "https://localhost:8080/"
        },
        "outputId": "f07a0819-3554-40e9-e1fd-ffb4a1a0e57d"
      },
      "execution_count": null,
      "outputs": [
        {
          "output_type": "stream",
          "name": "stdout",
          "text": [
            "Enter a int number: 40\n",
            "40\n",
            "<class 'int'>\n"
          ]
        }
      ]
    },
    {
      "cell_type": "code",
      "source": [
        "# float data Type\n",
        "b = float(input(\"Enter a float number: \"))\n",
        "print(b)\n",
        "print(type(b))\n"
      ],
      "metadata": {
        "colab": {
          "base_uri": "https://localhost:8080/"
        },
        "id": "Y4U007KYcg-t",
        "outputId": "4b01e660-78a5-49fa-d4d9-1e95a0ae79f2"
      },
      "execution_count": null,
      "outputs": [
        {
          "output_type": "stream",
          "name": "stdout",
          "text": [
            "Enter a float number: 10.08\n",
            "10.08\n",
            "<class 'float'>\n"
          ]
        }
      ]
    },
    {
      "cell_type": "code",
      "source": [
        "# complex data Type\n",
        "c = complex(input(\"Enter a complex number: \"))\n",
        "print(c)\n",
        "print(type(c))"
      ],
      "metadata": {
        "colab": {
          "base_uri": "https://localhost:8080/"
        },
        "id": "3kbIK2y7cq13",
        "outputId": "2250e3c3-1ee5-4626-9c1b-fe26b81e09cd"
      },
      "execution_count": null,
      "outputs": [
        {
          "output_type": "stream",
          "name": "stdout",
          "text": [
            "Enter a complex number: 4+3j\n",
            "(4+3j)\n",
            "<class 'complex'>\n"
          ]
        }
      ]
    },
    {
      "cell_type": "code",
      "source": [
        "# boolean data Type\n",
        "d = bool(int(input(\"Enter a boolean number (0 or 1): \")))\n",
        "print(d)\n",
        "print(type(d))\n"
      ],
      "metadata": {
        "colab": {
          "base_uri": "https://localhost:8080/"
        },
        "id": "4YtTLhA9c3h_",
        "outputId": "ec832cd1-d335-4427-cdb6-d41667145bba"
      },
      "execution_count": null,
      "outputs": [
        {
          "output_type": "stream",
          "name": "stdout",
          "text": [
            "Enter a boolean number (0 or 1): 1\n",
            "True\n",
            "<class 'bool'>\n"
          ]
        }
      ]
    },
    {
      "cell_type": "code",
      "source": [
        "# str data Type\n",
        "e = str(input(\"Enter a string: \"))\n",
        "print(e)\n",
        "print(type(e))\n"
      ],
      "metadata": {
        "colab": {
          "base_uri": "https://localhost:8080/"
        },
        "id": "BzSXf5UMfRr4",
        "outputId": "56154fab-c1ca-422a-d0a8-3c9c4a00a428"
      },
      "execution_count": null,
      "outputs": [
        {
          "output_type": "stream",
          "name": "stdout",
          "text": [
            "Enter a string: Suraj\n",
            "Suraj\n",
            "<class 'str'>\n"
          ]
        }
      ]
    },
    {
      "cell_type": "code",
      "source": [
        "# list data Type\n",
        "f = [\"Suraj\",20,\"Ashu\",21]\n",
        "print(f)\n",
        "print(type(f))\n"
      ],
      "metadata": {
        "colab": {
          "base_uri": "https://localhost:8080/"
        },
        "id": "YYiN6_Hmfgke",
        "outputId": "2699a5f7-14ac-457d-8f22-beb67e8667d8"
      },
      "execution_count": null,
      "outputs": [
        {
          "output_type": "stream",
          "name": "stdout",
          "text": [
            "['Suraj', 20, 'Ashu', 21]\n",
            "<class 'list'>\n"
          ]
        }
      ]
    },
    {
      "cell_type": "code",
      "source": [
        "# tuple data Type\n",
        "g = (\"Chandani\",20,\"Priya\",21)\n",
        "print(g)\n",
        "print(type(g))"
      ],
      "metadata": {
        "colab": {
          "base_uri": "https://localhost:8080/"
        },
        "id": "bAzCvt2UgizM",
        "outputId": "25161b10-750b-456f-e66a-a41d5deec5cb"
      },
      "execution_count": null,
      "outputs": [
        {
          "output_type": "stream",
          "name": "stdout",
          "text": [
            "('Chandani', 20, 'Priya', 21)\n",
            "<class 'tuple'>\n"
          ]
        }
      ]
    },
    {
      "cell_type": "code",
      "source": [
        "# set data Type\n",
        "h = {\"Gaurav\",22,\"Thakur\"}\n",
        "print(h)\n",
        "print(type(h))"
      ],
      "metadata": {
        "colab": {
          "base_uri": "https://localhost:8080/"
        },
        "id": "Bw74LavAinSh",
        "outputId": "a139ea1e-deee-457c-a432-8bc5906a8613"
      },
      "execution_count": null,
      "outputs": [
        {
          "output_type": "stream",
          "name": "stdout",
          "text": [
            "{'Thakur', 'Gaurav', 22}\n",
            "<class 'set'>\n"
          ]
        }
      ]
    },
    {
      "cell_type": "code",
      "source": [
        "# dict data Type\n",
        "i = {\"Suraj\":20, \"Gaurav\":21,\"Chandani\":20,\"Rani\":17}\n",
        "print(i)\n",
        "print(type(i))"
      ],
      "metadata": {
        "colab": {
          "base_uri": "https://localhost:8080/"
        },
        "id": "hHITRp5liya2",
        "outputId": "8c28afb8-abf5-4288-fdd7-7f3c2b80cc14"
      },
      "execution_count": null,
      "outputs": [
        {
          "output_type": "stream",
          "name": "stdout",
          "text": [
            "{'Suraj': 20, 'Gaurav': 21, 'Chandani': 20, 'Rani': 17}\n",
            "<class 'dict'>\n"
          ]
        }
      ]
    },
    {
      "cell_type": "code",
      "source": [
        "a = int(input(\"Enter first number : \"))\n",
        "b = int(input(\"Enter second number : \"))\n",
        "add = a + b\n",
        "sub = a - b\n",
        "div = a / b\n",
        "mul = a * b\n",
        "rem = a % b\n",
        "print(\"The sum is: \", add)\n",
        "print(\"The sub is: \", sub)\n",
        "print(\"The div is: \", div)\n",
        "print(\"The mul is: \", mul)\n",
        "print(\"The rem is: \", rem)\n"
      ],
      "metadata": {
        "colab": {
          "base_uri": "https://localhost:8080/"
        },
        "id": "3JgyhuuJxEiN",
        "outputId": "fe774163-653d-4561-e6ac-2f16d993f732"
      },
      "execution_count": null,
      "outputs": [
        {
          "output_type": "stream",
          "name": "stdout",
          "text": [
            "Enter first number : 25\n",
            "Enter second number : 4\n",
            "The sum is:  29\n",
            "The sub is:  21\n",
            "The div is:  6.25\n",
            "The mul is:  100\n",
            "The rem is:  1\n"
          ]
        }
      ]
    },
    {
      "cell_type": "markdown",
      "source": [
        "# `Numbers`"
      ],
      "metadata": {
        "id": "Xm7FNKg8D5WI"
      }
    },
    {
      "cell_type": "code",
      "source": [
        "# Integers:\n",
        "x = 1\n",
        "y = 35656222554887711\n",
        "z = -3255522\n",
        "\n",
        "print(type(x))\n",
        "print(type(y))\n",
        "print(type(z))"
      ],
      "metadata": {
        "id": "FI-mAsn6EB-c",
        "colab": {
          "base_uri": "https://localhost:8080/"
        },
        "outputId": "fe91f1cf-c53d-420b-9901-a8d5aa591398"
      },
      "execution_count": null,
      "outputs": [
        {
          "output_type": "stream",
          "name": "stdout",
          "text": [
            "<class 'int'>\n",
            "<class 'int'>\n",
            "<class 'int'>\n"
          ]
        }
      ]
    },
    {
      "cell_type": "markdown",
      "source": [
        "# `Casting`"
      ],
      "metadata": {
        "id": "OkDzL5hhEL9l"
      }
    },
    {
      "cell_type": "code",
      "source": [],
      "metadata": {
        "id": "4WIT9S4hESKE"
      },
      "execution_count": null,
      "outputs": []
    },
    {
      "cell_type": "markdown",
      "source": [
        "# `Strings`"
      ],
      "metadata": {
        "id": "OkjAXKsUETEC"
      }
    },
    {
      "cell_type": "code",
      "source": [],
      "metadata": {
        "id": "AddBTQ7cEY6i"
      },
      "execution_count": null,
      "outputs": []
    },
    {
      "cell_type": "markdown",
      "source": [
        "# `Booleans`"
      ],
      "metadata": {
        "id": "U4_9ChneEadB"
      }
    },
    {
      "cell_type": "code",
      "source": [],
      "metadata": {
        "id": "1HXquYm5Egxh"
      },
      "execution_count": null,
      "outputs": []
    },
    {
      "cell_type": "markdown",
      "source": [
        "# `Operators`"
      ],
      "metadata": {
        "id": "bmD6-t5REiCH"
      }
    },
    {
      "cell_type": "code",
      "source": [],
      "metadata": {
        "id": "3BNdoUjZEnBD"
      },
      "execution_count": null,
      "outputs": []
    },
    {
      "cell_type": "markdown",
      "source": [],
      "metadata": {
        "id": "WXb4Fv9fEo-H"
      }
    },
    {
      "cell_type": "markdown",
      "source": [
        "# `Lists`"
      ],
      "metadata": {
        "id": "HwTuXxTsErXJ"
      }
    },
    {
      "cell_type": "code",
      "source": [
        "# Lists are used to store multiple items in a single variable.\n",
        "\n",
        "# Lists are one of 4 built-in data types in Python used to store collections of data, the other 3 are Tuple, Set, and Dictionary, all with different qualities and usage.\n",
        "\n",
        "# # Lists are created using square brackets:\n",
        "mylist = [\"apple\", \"banana\", \"cherry\"]\n",
        "print(mylist)\n",
        "\n",
        "# Lists allow duplicate values:\n",
        "mylist = [\"apple\", \"banana\", \"cherry\", \"apple\", \"cherry\"]\n",
        "print(mylist)\n",
        "\n",
        "# To determine how many items a list has, use the len() function:\n",
        "mylist = [\"apple\", \"banana\", \"cherry\"]\n",
        "print(len(mylist))\n",
        "\n",
        "# List Items - Data Types\n",
        "list1 = [\"apple\", \"banana\", \"cherry\"] #String data type\n",
        "list2 = [1, 2, 4, 9, 4, 3] #int data type\n",
        "list3 = [True, False, False] #boolean data type\n",
        "print(list1)\n",
        "print(list2)\n",
        "print(list3)"
      ],
      "metadata": {
        "colab": {
          "base_uri": "https://localhost:8080/"
        },
        "id": "aOSmjX47Exnp",
        "outputId": "2bcf9833-d21b-490c-e59e-2bec453d528f"
      },
      "execution_count": null,
      "outputs": [
        {
          "output_type": "stream",
          "name": "stdout",
          "text": [
            "['apple', 'banana', 'cherry']\n",
            "['apple', 'banana', 'cherry', 'apple', 'cherry']\n",
            "3\n",
            "['apple', 'banana', 'cherry']\n",
            "[1, 2, 4, 9, 4, 3]\n",
            "[True, False, False]\n"
          ]
        }
      ]
    },
    {
      "cell_type": "code",
      "source": [
        "# A list can store multiple data types values in one list\n",
        "list1 = [\"Suraj\", 20, True, 40, \"male\"]\n",
        "print(list1)"
      ],
      "metadata": {
        "colab": {
          "base_uri": "https://localhost:8080/"
        },
        "id": "Sw4aNc2uHjFg",
        "outputId": "fb35e488-d079-4f5d-c100-e1bb29532233"
      },
      "execution_count": null,
      "outputs": [
        {
          "output_type": "stream",
          "name": "stdout",
          "text": [
            "['Suraj', 20, True, 40, 'male']\n"
          ]
        }
      ]
    },
    {
      "cell_type": "code",
      "source": [
        "#  Check Type() of data types in python\n",
        "mylist = [\"apple\", \"banana\", \"cherry\"]\n",
        "print(type(mylist))\n"
      ],
      "metadata": {
        "colab": {
          "base_uri": "https://localhost:8080/"
        },
        "id": "n3yCsovhH61L",
        "outputId": "a24bfa80-78e5-4b69-a34c-99c684a852fd"
      },
      "execution_count": null,
      "outputs": [
        {
          "output_type": "stream",
          "name": "stdout",
          "text": [
            "<class 'list'>\n"
          ]
        }
      ]
    },
    {
      "cell_type": "code",
      "source": [
        "# The list() Constructor\n",
        "thislist = list((\"apple\", \"banana\", \"cherry\")) # note the double round-brackets\n",
        "print(thislist)\n",
        "print(type(thislist))"
      ],
      "metadata": {
        "colab": {
          "base_uri": "https://localhost:8080/"
        },
        "id": "l988dqn0IYfk",
        "outputId": "ec2c5d1e-3c02-4e6c-825a-6135b71e5e8a"
      },
      "execution_count": null,
      "outputs": [
        {
          "output_type": "stream",
          "name": "stdout",
          "text": [
            "['apple', 'banana', 'cherry']\n",
            "<class 'list'>\n"
          ]
        }
      ]
    },
    {
      "cell_type": "markdown",
      "source": [
        "Lab Date - 08/09/2025"
      ],
      "metadata": {
        "id": "r-7xADAdX5AC"
      }
    },
    {
      "cell_type": "code",
      "source": [
        "list = [\"Suraj\",\"Priya\",\"Gaurav\",20,30]\n",
        "print(list)\n",
        "print(list[0])\n",
        "print(list[1])\n",
        "print(list[-1])\n",
        "print(list[-2])\n",
        "\n",
        "list.append(\"Ashu\") #appending an element to list\n",
        "print(list)\n",
        "\n",
        "list.insert(2,\"Rajan\") #inserting an element to list\n",
        "print(list)\n",
        "\n",
        "list.remove(\"Ashu\") #removing an element from list\n",
        "print(list)\n"
      ],
      "metadata": {
        "colab": {
          "base_uri": "https://localhost:8080/"
        },
        "id": "JITUP9xnYJD5",
        "outputId": "2bc73d55-9f99-4f34-c3dd-f0f35c989f41"
      },
      "execution_count": null,
      "outputs": [
        {
          "output_type": "stream",
          "name": "stdout",
          "text": [
            "['Suraj', 'Priya', 'Gaurav', 20, 30]\n",
            "Suraj\n",
            "Priya\n",
            "30\n",
            "20\n",
            "['Suraj', 'Priya', 'Gaurav', 20, 30, 'Ashu']\n",
            "['Suraj', 'Priya', 'Rajan', 'Gaurav', 20, 30, 'Ashu']\n",
            "['Suraj', 'Priya', 'Rajan', 'Gaurav', 20, 30]\n"
          ]
        }
      ]
    },
    {
      "cell_type": "code",
      "source": [
        "list = [\"Suraj\",\"Priya\",\"Gaurav\",20,30]\n",
        "print(list[0:3])\n",
        "print(list[:3])\n",
        "print(list[1:])\n",
        "print(list[-4:-1])"
      ],
      "metadata": {
        "colab": {
          "base_uri": "https://localhost:8080/"
        },
        "id": "VYjA_EpCe_kR",
        "outputId": "d95efe5d-dd43-47cf-a3bc-3e13e2c26155"
      },
      "execution_count": null,
      "outputs": [
        {
          "output_type": "stream",
          "name": "stdout",
          "text": [
            "['Suraj', 'Priya', 'Gaurav']\n",
            "['Suraj', 'Priya', 'Gaurav']\n",
            "['Priya', 'Gaurav', 20, 30]\n",
            "['Priya', 'Gaurav', 20]\n"
          ]
        }
      ]
    },
    {
      "cell_type": "markdown",
      "source": [
        "# `Tuples`"
      ],
      "metadata": {
        "id": "Ntb0BkoaEyrZ"
      }
    },
    {
      "cell_type": "code",
      "source": [
        "# # Tuples are created using small brackets:\n",
        "tuple = (\"apple\", \"banana\", \"Suraj\")\n",
        "print(tuple)\n",
        "print(type(tuple))"
      ],
      "metadata": {
        "id": "Vo3jt_scE83n",
        "colab": {
          "base_uri": "https://localhost:8080/"
        },
        "outputId": "d8a59bdd-0590-40a4-bcb4-7728fbd5ea31"
      },
      "execution_count": null,
      "outputs": [
        {
          "output_type": "stream",
          "name": "stdout",
          "text": [
            "('apple', 'banana', 'Suraj')\n",
            "<class 'tuple'>\n"
          ]
        }
      ]
    },
    {
      "cell_type": "markdown",
      "source": [
        "Lab Date - 08/09/2025"
      ],
      "metadata": {
        "id": "OTlRAdBVZxDW"
      }
    },
    {
      "cell_type": "code",
      "source": [
        "tuple = (\"Suraj\",\"Priya\",50,90,\"Rajan\")\n",
        "print(tuple)\n",
        "print(tuple[0])\n",
        "print(tuple[1])\n",
        "print(tuple[-1])\n",
        "print(tuple[-2])\n",
        "tuple.index(\"Rajan\")\n",
        "tuple.count(\"Suraj\")"
      ],
      "metadata": {
        "colab": {
          "base_uri": "https://localhost:8080/"
        },
        "id": "QTjPLH90Z2E5",
        "outputId": "11ac5005-5eec-4b6d-e22d-9dcb4424a4c7"
      },
      "execution_count": null,
      "outputs": [
        {
          "output_type": "stream",
          "name": "stdout",
          "text": [
            "('Suraj', 'Priya', 50, 90, 'Rajan')\n",
            "Suraj\n",
            "Priya\n",
            "Rajan\n",
            "90\n"
          ]
        },
        {
          "output_type": "execute_result",
          "data": {
            "text/plain": [
              "1"
            ]
          },
          "metadata": {},
          "execution_count": 44
        }
      ]
    },
    {
      "cell_type": "code",
      "source": [
        "tuple = (\"Suraj\",\"Priya\",50,90,\"Rajan\")\n",
        "print(tuple[1:3])\n",
        "print(tuple[:3])\n",
        "print(tuple[1:])\n",
        "print(tuple[-4:-1])"
      ],
      "metadata": {
        "colab": {
          "base_uri": "https://localhost:8080/"
        },
        "id": "JwtIzlHPeuli",
        "outputId": "4bbf632a-ac95-43b1-e5f4-9a246b56fc8e"
      },
      "execution_count": null,
      "outputs": [
        {
          "output_type": "stream",
          "name": "stdout",
          "text": [
            "('Priya', 50)\n",
            "('Suraj', 'Priya', 50)\n",
            "('Priya', 50, 90, 'Rajan')\n",
            "('Priya', 50, 90)\n"
          ]
        }
      ]
    },
    {
      "cell_type": "markdown",
      "source": [
        "# `Sets`"
      ],
      "metadata": {
        "id": "RR7jFtDjFFyT"
      }
    },
    {
      "cell_type": "markdown",
      "source": [
        "Lab Date - 08/09/2025"
      ],
      "metadata": {
        "id": "iWSeg80ZcYxN"
      }
    },
    {
      "cell_type": "code",
      "source": [
        "set = {\"Suraj\",\"Priya\",70,\"Satesh\"} #Creating a set\n",
        "print(set)\n",
        "print(type(set))\n",
        "\n",
        "set.add(\"Ashu\") #adding an element in set\n",
        "print(set)\n",
        "\n",
        "set.remove(70) #removing an element from a set\n",
        "print(set)\n",
        "\n",
        "set.copy() #copying a set\n",
        "print(set)\n",
        "\n",
        "set.clear() #clearing a set\n",
        "print(set)\n",
        "\n",
        "del set #deleting a set\n",
        "#print(set)\n"
      ],
      "metadata": {
        "id": "avlEpvWLFJW3",
        "colab": {
          "base_uri": "https://localhost:8080/"
        },
        "outputId": "e55a08cd-3f54-405c-9eb6-419b159e7539"
      },
      "execution_count": null,
      "outputs": [
        {
          "output_type": "stream",
          "name": "stdout",
          "text": [
            "{'Satesh', 'Priya', 70, 'Suraj'}\n",
            "<class 'set'>\n",
            "{70, 'Suraj', 'Ashu', 'Satesh', 'Priya'}\n",
            "{'Suraj', 'Ashu', 'Satesh', 'Priya'}\n",
            "{'Suraj', 'Ashu', 'Satesh', 'Priya'}\n",
            "set()\n"
          ]
        }
      ]
    },
    {
      "cell_type": "markdown",
      "source": [
        "# `Dictionaries`"
      ],
      "metadata": {
        "id": "nbY7gMedFNz8"
      }
    },
    {
      "cell_type": "markdown",
      "source": [
        "Lab Date - 08/09/2025"
      ],
      "metadata": {
        "id": "nWullRT_eX-Y"
      }
    },
    {
      "cell_type": "code",
      "source": [
        "dict = {29342:\"Suraj\",\n",
        "        29341:\"priya\",\n",
        "        35490:\"Abhi\",\n",
        "        30571:\"Sandeep\",\n",
        "        30135:\"Gauri\"}\n",
        "print(dict)\n",
        "print(dict[30571])\n",
        "print(dict[29341])\n",
        "print(dict[30135])\n",
        "print(dict[29342])\n",
        "\n",
        "dict.update({29342:\"Ashu\"}) #Updating a dictionary values\n",
        "print(dict)\n",
        "\n",
        "dict.pop(30571) #Deleting a dictionary values\n",
        "print(dict)\n",
        "\n",
        "dict.items() #Printing items of dictionary\n",
        "print(dict)\n",
        "\n",
        "dict.popitem() #Deleting last element of dictionary\n",
        "print(dict)\n",
        "\n",
        "dict.clear() #Clearing a dictionary\n",
        "print(dict)\n"
      ],
      "metadata": {
        "id": "pPJP_juFFWNZ",
        "colab": {
          "base_uri": "https://localhost:8080/"
        },
        "outputId": "d36400af-36cf-46b4-85c1-4328c274def9"
      },
      "execution_count": null,
      "outputs": [
        {
          "output_type": "stream",
          "name": "stdout",
          "text": [
            "{29342: 'Suraj', 29341: 'priya', 35490: 'Abhi', 30571: 'Sandeep', 30135: 'Gauri'}\n",
            "Sandeep\n",
            "priya\n",
            "Gauri\n",
            "Suraj\n",
            "{29342: 'Ashu', 29341: 'priya', 35490: 'Abhi', 30571: 'Sandeep', 30135: 'Gauri'}\n",
            "{29342: 'Ashu', 29341: 'priya', 35490: 'Abhi', 30135: 'Gauri'}\n",
            "{29342: 'Ashu', 29341: 'priya', 35490: 'Abhi', 30135: 'Gauri'}\n",
            "{29342: 'Ashu', 29341: 'priya', 35490: 'Abhi'}\n",
            "{}\n"
          ]
        }
      ]
    },
    {
      "cell_type": "markdown",
      "source": [
        "# `If-Else`"
      ],
      "metadata": {
        "id": "qop6cGSjly7r"
      }
    },
    {
      "cell_type": "code",
      "source": [
        "a = 30\n",
        "b = 20\n",
        "if b > a:\n",
        "    print (\"b is greater than a\")\n",
        "else: print (\"b is less than a\")"
      ],
      "metadata": {
        "id": "uGQ598fPmEpL",
        "colab": {
          "base_uri": "https://localhost:8080/"
        },
        "outputId": "10c78cc5-e84b-42e7-c6e8-47e2043c0644"
      },
      "execution_count": null,
      "outputs": [
        {
          "output_type": "stream",
          "name": "stdout",
          "text": [
            "b is less than a\n"
          ]
        }
      ]
    },
    {
      "cell_type": "code",
      "source": [
        "a = int(input(\"Enter first number : \"))\n",
        "b = int(input(\"Enter second number : \"))\n",
        "if b > a:\n",
        "    print (\"b is greater than a\")\n",
        "elif b < a:\n",
        "    print (\"b is less than a \")\n",
        "else :\n",
        "    print (\"a is equal to b\")"
      ],
      "metadata": {
        "colab": {
          "base_uri": "https://localhost:8080/"
        },
        "id": "Q5BlN_veQx29",
        "outputId": "263edf0f-4b4e-4a97-a199-4e1544bc9e1a"
      },
      "execution_count": null,
      "outputs": [
        {
          "output_type": "stream",
          "name": "stdout",
          "text": [
            "Enter first number : 30\n",
            "Enter second number : 30\n",
            "a is equal to b\n"
          ]
        }
      ]
    },
    {
      "cell_type": "code",
      "source": [
        "a = int(input(\"Enter first number : \"))\n",
        "b = int(input(\"Enter second number : \"))\n",
        "if b > a or b<a:\n",
        "    print (\"a and b are unequal\")\n",
        "else :\n",
        "    print (\"a is equal to b\")\n"
      ],
      "metadata": {
        "colab": {
          "base_uri": "https://localhost:8080/"
        },
        "id": "9J11ITkbSLY-",
        "outputId": "3b67ad25-9778-4a0c-d4b6-b6fdc64c5609"
      },
      "execution_count": null,
      "outputs": [
        {
          "output_type": "stream",
          "name": "stdout",
          "text": [
            "Enter first number : 30\n",
            "Enter second number : 30\n",
            "a is equal to b\n"
          ]
        }
      ]
    },
    {
      "cell_type": "code",
      "source": [
        "a =20\n",
        "b = 100\n",
        "if b > a or b<a:\n",
        "    print (\"a and b are unequal\")\n",
        "else :\n",
        "    print (\"a is equal to b\")"
      ],
      "metadata": {
        "colab": {
          "base_uri": "https://localhost:8080/"
        },
        "id": "IrNLw9DPT37D",
        "outputId": "03a02267-9850-4a70-95e3-e40c6996d114"
      },
      "execution_count": null,
      "outputs": [
        {
          "output_type": "stream",
          "name": "stdout",
          "text": [
            "a and b are unequal\n"
          ]
        }
      ]
    },
    {
      "cell_type": "code",
      "source": [
        "a =20\n",
        "b = 100\n",
        "if b > a and b<a:\n",
        "    print (\"a and b are unequal\")\n",
        "else :\n",
        "    print (\"a is equal to b\") #this statement is wrong it is called logical error"
      ],
      "metadata": {
        "colab": {
          "base_uri": "https://localhost:8080/"
        },
        "id": "f27GcFqmUcfa",
        "outputId": "81213689-c896-42f7-e452-a5970bac6e4e"
      },
      "execution_count": null,
      "outputs": [
        {
          "output_type": "stream",
          "name": "stdout",
          "text": [
            "a is equal to b\n"
          ]
        }
      ]
    },
    {
      "cell_type": "code",
      "source": [
        "a =20\n",
        "b = 100\n",
        "if  not (b > a or b<a):\n",
        "    print (\"a and b are unequal\")\n",
        "else :\n",
        "    print (\"a is equal to b\")"
      ],
      "metadata": {
        "colab": {
          "base_uri": "https://localhost:8080/"
        },
        "id": "MzH8shUTU3G_",
        "outputId": "e785c037-bc08-4317-ca5e-89422c4b3268"
      },
      "execution_count": null,
      "outputs": [
        {
          "output_type": "stream",
          "name": "stdout",
          "text": [
            "a is equal to b\n"
          ]
        }
      ]
    },
    {
      "cell_type": "code",
      "source": [
        "a =20\n",
        "b = 100\n",
        "if  not (b > a and b<a):\n",
        "    print (\"a and b are unequal\")\n",
        "else :\n",
        "    print (\"a is equal to b\")"
      ],
      "metadata": {
        "colab": {
          "base_uri": "https://localhost:8080/"
        },
        "id": "jlkSqP8UVZao",
        "outputId": "993b6821-b420-417d-c1f7-6a5f2edbf263"
      },
      "execution_count": null,
      "outputs": [
        {
          "output_type": "stream",
          "name": "stdout",
          "text": [
            "a and b are unequal\n"
          ]
        }
      ]
    },
    {
      "cell_type": "code",
      "source": [],
      "metadata": {
        "id": "7mLu45KgVn9c"
      },
      "execution_count": null,
      "outputs": []
    },
    {
      "cell_type": "markdown",
      "source": [
        "# `Calculator `"
      ],
      "metadata": {
        "id": "Ik2pZZ46nBMf"
      }
    },
    {
      "cell_type": "code",
      "source": [
        "a = int(input(\"Enter First Number : \"))\n",
        "b = int(input(\"Enter Second Number : \"))\n",
        "list =['add','sub','multiply','divide']\n",
        "c = input(\"Choose your operation : \")\n",
        "\n",
        "for i in list:\n",
        "    if (i == c):\n",
        "        if(i == 'add'):\n",
        "            print(a+b)\n",
        "            break\n",
        "        elif(i == 'sub'):\n",
        "            print(a-b)\n",
        "            break\n",
        "        elif(i == 'multiply'):\n",
        "            print(a*b)\n",
        "            break\n",
        "        else:\n",
        "            print(a/b)\n",
        "            break\n",
        "else:  print(\"Operation not found !\")"
      ],
      "metadata": {
        "colab": {
          "base_uri": "https://localhost:8080/"
        },
        "id": "-09cvzNYnLrV",
        "outputId": "5032d214-642a-442d-8351-bc0a6302c049"
      },
      "execution_count": null,
      "outputs": [
        {
          "output_type": "stream",
          "name": "stdout",
          "text": [
            "Enter First Number : 50\n",
            "Enter Second Number : 60\n",
            "Choose your operation : multiply\n",
            "3000\n"
          ]
        }
      ]
    },
    {
      "cell_type": "code",
      "source": [],
      "metadata": {
        "id": "gf8r11whnOIZ"
      },
      "execution_count": null,
      "outputs": []
    }
  ]
}